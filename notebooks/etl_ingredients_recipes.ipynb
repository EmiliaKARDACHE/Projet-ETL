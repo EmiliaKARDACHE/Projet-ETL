{
 "cells": [
  {
   "cell_type": "code",
   "execution_count": 5,
   "id": "55805631",
   "metadata": {},
   "outputs": [],
   "source": [
    "import pandas as pd\n",
    "import numpy as np\n",
    "import re\n",
    "from pathlib import Path"
   ]
  },
  {
   "cell_type": "code",
   "execution_count": null,
   "id": "b98dc405",
   "metadata": {},
   "outputs": [
    {
     "name": "stdout",
     "output_type": "stream",
     "text": [
      "Original dataset: 20000 rows, 7 columns\n",
      "Sample extracted: 1 rows\n"
     ]
    }
   ],
   "source": [
    "# EXTRACT: Load the dataset and sample 50k random rows\n",
    "file_path = r\"c:\\Users\\FRBN6849\\Downloads\\Projet-ETL-main\\Projet-ETL-main\\data\\raw\\raw\\recipe_sample.csv\"\n",
    "df = pd.read_csv(file_path)\n",
    "print(f\"Original dataset: {len(df)} rows, {len(df.columns)} columns\")\n",
    "\n",
    "df_sample = df.sample(random_state=42)\n",
    "print(f\"Sample extracted: {len(df_sample)} rows\")"
   ]
  },
  {
   "cell_type": "code",
   "execution_count": 7,
   "id": "a97f6fdc",
   "metadata": {},
   "outputs": [
    {
     "name": "stdout",
     "output_type": "stream",
     "text": [
      "Null values per column:\n",
      "Unnamed: 0     0\n",
      "title          0\n",
      "ingredients    0\n",
      "directions     0\n",
      "link           0\n",
      "source         0\n",
      "NER            0\n",
      "dtype: int64\n",
      "\n",
      "Total rows with at least one null: 0\n"
     ]
    }
   ],
   "source": [
    "# TRANSFORM: Check for null values\n",
    "print(\"Null values per column:\")\n",
    "print(df_sample.isnull().sum())\n",
    "print(f\"\\nTotal rows with at least one null: {df_sample.isnull().any(axis=1).sum()}\")"
   ]
  },
  {
   "cell_type": "code",
   "execution_count": 8,
   "id": "1b868f00",
   "metadata": {},
   "outputs": [
    {
     "name": "stdout",
     "output_type": "stream",
     "text": [
      "Rows after removing any nulls: 1\n",
      "Removed 0 rows with null values\n"
     ]
    }
   ],
   "source": [
    "# TRANSFORM: Remove rows with at least one null column\n",
    "df_no_nulls = df_sample.dropna()\n",
    "print(f\"Rows after removing any nulls: {len(df_no_nulls)}\")\n",
    "print(f\"Removed {len(df_sample) - len(df_no_nulls)} rows with null values\")"
   ]
  },
  {
   "cell_type": "code",
   "execution_count": 9,
   "id": "342551ca",
   "metadata": {},
   "outputs": [
    {
     "name": "stdout",
     "output_type": "stream",
     "text": [
      "Rows after removing duplicates: 1\n",
      "Removed 0 duplicate rows\n"
     ]
    }
   ],
   "source": [
    "# TRANSFORM: Remove duplicates\n",
    "df_clean = df_no_nulls.drop_duplicates()\n",
    "print(f\"Rows after removing duplicates: {len(df_clean)}\")\n",
    "print(f\"Removed {len(df_no_nulls) - len(df_clean)} duplicate rows\")"
   ]
  },
  {
   "cell_type": "code",
   "execution_count": 10,
   "id": "ac3c945f",
   "metadata": {},
   "outputs": [
    {
     "name": "stdout",
     "output_type": "stream",
     "text": [
      "Final clean data sample:\n"
     ]
    },
    {
     "data": {
      "text/html": [
       "<div>\n",
       "<style scoped>\n",
       "    .dataframe tbody tr th:only-of-type {\n",
       "        vertical-align: middle;\n",
       "    }\n",
       "\n",
       "    .dataframe tbody tr th {\n",
       "        vertical-align: top;\n",
       "    }\n",
       "\n",
       "    .dataframe thead th {\n",
       "        text-align: right;\n",
       "    }\n",
       "</style>\n",
       "<table border=\"1\" class=\"dataframe\">\n",
       "  <thead>\n",
       "    <tr style=\"text-align: right;\">\n",
       "      <th></th>\n",
       "      <th>Unnamed: 0</th>\n",
       "      <th>title</th>\n",
       "      <th>ingredients</th>\n",
       "      <th>directions</th>\n",
       "      <th>link</th>\n",
       "      <th>source</th>\n",
       "      <th>NER</th>\n",
       "    </tr>\n",
       "  </thead>\n",
       "  <tbody>\n",
       "    <tr>\n",
       "      <th>10650</th>\n",
       "      <td>16393</td>\n",
       "      <td>Parmesan Chicken(Serves 8)</td>\n",
       "      <td>[\"8 chicken breasts, skinned, boned and pounde...</td>\n",
       "      <td>[\"Dip each breast in a combination of eggs and...</td>\n",
       "      <td>www.cookbooks.com/Recipe-Details.aspx?id=84167</td>\n",
       "      <td>Gathered</td>\n",
       "      <td>[\"chicken breasts\", \"eggs\", \"milk\", \"bread cru...</td>\n",
       "    </tr>\n",
       "  </tbody>\n",
       "</table>\n",
       "</div>"
      ],
      "text/plain": [
       "       Unnamed: 0                         title  \\\n",
       "10650       16393  Parmesan Chicken(Serves 8)     \n",
       "\n",
       "                                             ingredients  \\\n",
       "10650  [\"8 chicken breasts, skinned, boned and pounde...   \n",
       "\n",
       "                                              directions  \\\n",
       "10650  [\"Dip each breast in a combination of eggs and...   \n",
       "\n",
       "                                                 link    source  \\\n",
       "10650  www.cookbooks.com/Recipe-Details.aspx?id=84167  Gathered   \n",
       "\n",
       "                                                     NER  \n",
       "10650  [\"chicken breasts\", \"eggs\", \"milk\", \"bread cru...  "
      ]
     },
     "execution_count": 10,
     "metadata": {},
     "output_type": "execute_result"
    }
   ],
   "source": [
    "# Show final clean data sample\n",
    "print(\"Final clean data sample:\")\n",
    "df_clean.head(10)"
   ]
  }
 ],
 "metadata": {
  "kernelspec": {
   "display_name": "Python 3",
   "language": "python",
   "name": "python3"
  },
  "language_info": {
   "codemirror_mode": {
    "name": "ipython",
    "version": 3
   },
   "file_extension": ".py",
   "mimetype": "text/x-python",
   "name": "python",
   "nbconvert_exporter": "python",
   "pygments_lexer": "ipython3",
   "version": "3.12.8"
  }
 },
 "nbformat": 4,
 "nbformat_minor": 5
}
