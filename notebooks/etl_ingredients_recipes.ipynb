{
 "cells": [
  {
   "cell_type": "code",
   "execution_count": 19,
   "id": "55805631",
   "metadata": {},
   "outputs": [],
   "source": [
    "import pandas as pd\n",
    "import numpy as np\n",
    "import re\n",
    "from pathlib import Path"
   ]
  },
  {
   "cell_type": "code",
   "execution_count": 26,
   "id": "b98dc405",
   "metadata": {},
   "outputs": [
    {
     "name": "stdout",
     "output_type": "stream",
     "text": [
      "Original dataset: 20000 rows, 7 columns\n",
      "Columns: ['Unnamed: 0', 'title', 'ingredients', 'directions', 'link', 'source', 'NER']\n",
      "Sample extracted: 20000 rows\n",
      "       Unnamed: 0                                  title  \\\n",
      "10650       16393           Parmesan Chicken(Serves 8)     \n",
      "2041      1273074                           Garlic Soup    \n",
      "8668      2190185            Einar's Marinated Mushrooms   \n",
      "1114      1788278  Quick, Easy, Delicious Spritz Cookies   \n",
      "13902      533951                Sausage And Green Beans   \n",
      "\n",
      "                                             ingredients  \\\n",
      "10650  [\"8 chicken breasts, skinned, boned and pounde...   \n",
      "2041   [\"2 c. water\", \"2 cloves garlic, pressed or mi...   \n",
      "8668   [\"1-1/2 lb. whole mushrooms\", \"1-2/3 tbsp. oli...   \n",
      "1114   [\"50 grams Margarine (butter)\", \"40 grams Powd...   \n",
      "13902  [\"1/2 lb. German sausage\", \"1/2 lb. Italian sa...   \n",
      "\n",
      "                                              directions  \\\n",
      "10650  [\"Dip each breast in a combination of eggs and...   \n",
      "2041   [\"Place water, garlic, salt, thyme, and pasta ...   \n",
      "8668   [\"Put all ingredients into a sauce pan; stir.\"...   \n",
      "1114   [\"Preparation: Sift the ingredients from toget...   \n",
      "13902  [\"Cut sausages into bite-sized pieces and brow...   \n",
      "\n",
      "                                                    link     source  \\\n",
      "10650     www.cookbooks.com/Recipe-Details.aspx?id=84167   Gathered   \n",
      "2041   www.epicurious.com/recipes/member/views/garlic...   Gathered   \n",
      "8668                      www.foodgeeks.com/recipes/6375  Recipes1M   \n",
      "1114   cookpad.com/us/recipes/145240-quick-easy-delic...  Recipes1M   \n",
      "13902    www.cookbooks.com/Recipe-Details.aspx?id=956338   Gathered   \n",
      "\n",
      "                                                     NER  \n",
      "10650  [\"chicken breasts\", \"eggs\", \"milk\", \"bread cru...  \n",
      "2041   [\"water\", \"garlic\", \"thyme\", \"salt\", \"multi co...  \n",
      "8668   [\"mushrooms\", \"olive oil\", \"fennel seeds\", \"co...  \n",
      "1114   [\"Margarine\", \"Powdered sugar\", \"flour\", \"star...  \n",
      "13902  [\"sausage\", \"Italian sausage\", \"onions\", \"fres...  \n"
     ]
    }
   ],
   "source": [
    "# EXTRACT: Load the recipe dataset and sample 50k random rows\n",
    "file_path = r\"c:\\Users\\FRBN6849\\Downloads\\Projet-ETL-main\\Projet-ETL-main\\data\\raw\\recipe_sample.csv\"\n",
    "df = pd.read_csv(file_path)\n",
    "print(f\"Original dataset: {len(df)} rows, {len(df.columns)} columns\")\n",
    "print(f\"Columns: {df.columns.tolist()}\")\n",
    "\n",
    "# Sample 50k random rows (or all if less than 50k)\n",
    "df_sample = df.sample(n=20000, random_state=42)\n",
    "print(f\"Sample extracted: {len(df_sample)} rows\")\n",
    "print(df_sample.head())"
   ]
  },
  {
   "cell_type": "code",
   "execution_count": 27,
   "id": "de9d4947",
   "metadata": {},
   "outputs": [
    {
     "name": "stdout",
     "output_type": "stream",
     "text": [
      "Final columns: ['title', 'ingredients', 'directions', 'link', 'source', 'NER']\n",
      "Final shape: (20000, 6)\n"
     ]
    }
   ],
   "source": [
    "# TRANSFORM: Remove the 'Unnamed: 0' column (index column)\n",
    "if 'Unnamed: 0' in df_sample.columns:\n",
    "    df_sample = df_sample.drop(columns=['Unnamed: 0'])\n",
    "\n",
    "print(f\"Final columns: {df_sample.columns.tolist()}\")\n",
    "print(f\"Final shape: {df_sample.shape}\")"
   ]
  },
  {
   "cell_type": "code",
   "execution_count": 28,
   "id": "a97f6fdc",
   "metadata": {},
   "outputs": [
    {
     "name": "stdout",
     "output_type": "stream",
     "text": [
      "Null values per column:\n",
      "title          0\n",
      "ingredients    0\n",
      "directions     0\n",
      "link           0\n",
      "source         0\n",
      "NER            0\n",
      "dtype: int64\n",
      "\n",
      "Total rows with at least one null: 0\n"
     ]
    }
   ],
   "source": [
    "# TRANSFORM: Check for null values\n",
    "print(\"Null values per column:\")\n",
    "print(df_sample.isnull().sum())\n",
    "print(f\"\\nTotal rows with at least one null: {df_sample.isnull().any(axis=1).sum()}\")"
   ]
  },
  {
   "cell_type": "code",
   "execution_count": 29,
   "id": "1b868f00",
   "metadata": {},
   "outputs": [
    {
     "name": "stdout",
     "output_type": "stream",
     "text": [
      "Rows after removing any nulls: 20000\n",
      "Removed 0 rows with null values\n"
     ]
    }
   ],
   "source": [
    "# TRANSFORM: Remove rows with at least one null column\n",
    "df_no_nulls = df_sample.dropna()\n",
    "print(f\"Rows after removing any nulls: {len(df_no_nulls)}\")\n",
    "print(f\"Removed {len(df_sample) - len(df_no_nulls)} rows with null values\")"
   ]
  },
  {
   "cell_type": "code",
   "execution_count": 30,
   "id": "342551ca",
   "metadata": {},
   "outputs": [
    {
     "name": "stdout",
     "output_type": "stream",
     "text": [
      "Rows after removing duplicates: 20000\n",
      "Removed 0 duplicate rows\n"
     ]
    }
   ],
   "source": [
    "# TRANSFORM: Remove duplicates\n",
    "df_clean = df_no_nulls.drop_duplicates()\n",
    "print(f\"Rows after removing duplicates: {len(df_clean)}\")\n",
    "print(f\"Removed {len(df_no_nulls) - len(df_clean)} duplicate rows\")"
   ]
  },
  {
   "cell_type": "code",
   "execution_count": 31,
   "id": "ac3c945f",
   "metadata": {},
   "outputs": [
    {
     "name": "stdout",
     "output_type": "stream",
     "text": [
      "Final clean data sample:\n"
     ]
    },
    {
     "data": {
      "text/html": [
       "<div>\n",
       "<style scoped>\n",
       "    .dataframe tbody tr th:only-of-type {\n",
       "        vertical-align: middle;\n",
       "    }\n",
       "\n",
       "    .dataframe tbody tr th {\n",
       "        vertical-align: top;\n",
       "    }\n",
       "\n",
       "    .dataframe thead th {\n",
       "        text-align: right;\n",
       "    }\n",
       "</style>\n",
       "<table border=\"1\" class=\"dataframe\">\n",
       "  <thead>\n",
       "    <tr style=\"text-align: right;\">\n",
       "      <th></th>\n",
       "      <th>title</th>\n",
       "      <th>ingredients</th>\n",
       "      <th>directions</th>\n",
       "      <th>link</th>\n",
       "      <th>source</th>\n",
       "      <th>NER</th>\n",
       "    </tr>\n",
       "  </thead>\n",
       "  <tbody>\n",
       "    <tr>\n",
       "      <th>10650</th>\n",
       "      <td>Parmesan Chicken(Serves 8)</td>\n",
       "      <td>[\"8 chicken breasts, skinned, boned and pounde...</td>\n",
       "      <td>[\"Dip each breast in a combination of eggs and...</td>\n",
       "      <td>www.cookbooks.com/Recipe-Details.aspx?id=84167</td>\n",
       "      <td>Gathered</td>\n",
       "      <td>[\"chicken breasts\", \"eggs\", \"milk\", \"bread cru...</td>\n",
       "    </tr>\n",
       "    <tr>\n",
       "      <th>2041</th>\n",
       "      <td>Garlic Soup</td>\n",
       "      <td>[\"2 c. water\", \"2 cloves garlic, pressed or mi...</td>\n",
       "      <td>[\"Place water, garlic, salt, thyme, and pasta ...</td>\n",
       "      <td>www.epicurious.com/recipes/member/views/garlic...</td>\n",
       "      <td>Gathered</td>\n",
       "      <td>[\"water\", \"garlic\", \"thyme\", \"salt\", \"multi co...</td>\n",
       "    </tr>\n",
       "    <tr>\n",
       "      <th>8668</th>\n",
       "      <td>Einar's Marinated Mushrooms</td>\n",
       "      <td>[\"1-1/2 lb. whole mushrooms\", \"1-2/3 tbsp. oli...</td>\n",
       "      <td>[\"Put all ingredients into a sauce pan; stir.\"...</td>\n",
       "      <td>www.foodgeeks.com/recipes/6375</td>\n",
       "      <td>Recipes1M</td>\n",
       "      <td>[\"mushrooms\", \"olive oil\", \"fennel seeds\", \"co...</td>\n",
       "    </tr>\n",
       "    <tr>\n",
       "      <th>1114</th>\n",
       "      <td>Quick, Easy, Delicious Spritz Cookies</td>\n",
       "      <td>[\"50 grams Margarine (butter)\", \"40 grams Powd...</td>\n",
       "      <td>[\"Preparation: Sift the ingredients from toget...</td>\n",
       "      <td>cookpad.com/us/recipes/145240-quick-easy-delic...</td>\n",
       "      <td>Recipes1M</td>\n",
       "      <td>[\"Margarine\", \"Powdered sugar\", \"flour\", \"star...</td>\n",
       "    </tr>\n",
       "    <tr>\n",
       "      <th>13902</th>\n",
       "      <td>Sausage And Green Beans</td>\n",
       "      <td>[\"1/2 lb. German sausage\", \"1/2 lb. Italian sa...</td>\n",
       "      <td>[\"Cut sausages into bite-sized pieces and brow...</td>\n",
       "      <td>www.cookbooks.com/Recipe-Details.aspx?id=956338</td>\n",
       "      <td>Gathered</td>\n",
       "      <td>[\"sausage\", \"Italian sausage\", \"onions\", \"fres...</td>\n",
       "    </tr>\n",
       "    <tr>\n",
       "      <th>11963</th>\n",
       "      <td>Peanut Butter Crispy Rice Treats</td>\n",
       "      <td>[\"6 tablespoons unsalted butter, plus more for...</td>\n",
       "      <td>[\"Lightly butter a 13- by 9-inch baking dish.\"...</td>\n",
       "      <td>www.foodnetwork.com/recipes/food-network-kitch...</td>\n",
       "      <td>Recipes1M</td>\n",
       "      <td>[\"unsalted butter\", \"marshmallows\", \"smooth pe...</td>\n",
       "    </tr>\n",
       "    <tr>\n",
       "      <th>11072</th>\n",
       "      <td>Chocolate Cake</td>\n",
       "      <td>[\"2 c. all-purpose flour\", \"1 c. water\", \"1 st...</td>\n",
       "      <td>[\"Aerate the flour and sugar in a large bowl.\"...</td>\n",
       "      <td>www.cookbooks.com/Recipe-Details.aspx?id=773865</td>\n",
       "      <td>Gathered</td>\n",
       "      <td>[\"flour\", \"water\", \"margarine\", \"eggs\", \"bakin...</td>\n",
       "    </tr>\n",
       "    <tr>\n",
       "      <th>3002</th>\n",
       "      <td>Egg Salad With A Twist</td>\n",
       "      <td>[\"4 large eggs\", \"2 tablespoons green onions\",...</td>\n",
       "      <td>[\"For best results in making the eggs easier t...</td>\n",
       "      <td>www.food.com/recipe/egg-salad-with-a-twist-97575</td>\n",
       "      <td>Gathered</td>\n",
       "      <td>[\"eggs\", \"green onions\", \"green olives\", \"mayo...</td>\n",
       "    </tr>\n",
       "    <tr>\n",
       "      <th>19771</th>\n",
       "      <td>Slow Cooker Scalloped Potatoes with Ham</td>\n",
       "      <td>[\"3 pounds potatoes, peeled and thinly sliced\"...</td>\n",
       "      <td>[\"Place sliced potatoes in slow cooker.\", \"In ...</td>\n",
       "      <td>allrecipes.com/recipe/slow-cooker-scalloped-po...</td>\n",
       "      <td>Recipes1M</td>\n",
       "      <td>[\"potatoes\", \"Cheddar cheese\", \"onion\", \"ham\",...</td>\n",
       "    </tr>\n",
       "    <tr>\n",
       "      <th>8115</th>\n",
       "      <td>Frosted Peanut Butter Brownies</td>\n",
       "      <td>[\"1 1/2 cups butter or 1 1/2 cups margarine, d...</td>\n",
       "      <td>[\"Cook 1 cup butter and 1/3 cup cocoa in a sau...</td>\n",
       "      <td>www.food.com/recipe/frosted-peanut-butter-brow...</td>\n",
       "      <td>Gathered</td>\n",
       "      <td>[\"butter\", \"cocoa\", \"sugar\", \"flour\", \"salt\", ...</td>\n",
       "    </tr>\n",
       "  </tbody>\n",
       "</table>\n",
       "</div>"
      ],
      "text/plain": [
       "                                         title  \\\n",
       "10650             Parmesan Chicken(Serves 8)     \n",
       "2041                              Garlic Soup    \n",
       "8668               Einar's Marinated Mushrooms   \n",
       "1114     Quick, Easy, Delicious Spritz Cookies   \n",
       "13902                  Sausage And Green Beans   \n",
       "11963         Peanut Butter Crispy Rice Treats   \n",
       "11072                           Chocolate Cake   \n",
       "3002                    Egg Salad With A Twist   \n",
       "19771  Slow Cooker Scalloped Potatoes with Ham   \n",
       "8115            Frosted Peanut Butter Brownies   \n",
       "\n",
       "                                             ingredients  \\\n",
       "10650  [\"8 chicken breasts, skinned, boned and pounde...   \n",
       "2041   [\"2 c. water\", \"2 cloves garlic, pressed or mi...   \n",
       "8668   [\"1-1/2 lb. whole mushrooms\", \"1-2/3 tbsp. oli...   \n",
       "1114   [\"50 grams Margarine (butter)\", \"40 grams Powd...   \n",
       "13902  [\"1/2 lb. German sausage\", \"1/2 lb. Italian sa...   \n",
       "11963  [\"6 tablespoons unsalted butter, plus more for...   \n",
       "11072  [\"2 c. all-purpose flour\", \"1 c. water\", \"1 st...   \n",
       "3002   [\"4 large eggs\", \"2 tablespoons green onions\",...   \n",
       "19771  [\"3 pounds potatoes, peeled and thinly sliced\"...   \n",
       "8115   [\"1 1/2 cups butter or 1 1/2 cups margarine, d...   \n",
       "\n",
       "                                              directions  \\\n",
       "10650  [\"Dip each breast in a combination of eggs and...   \n",
       "2041   [\"Place water, garlic, salt, thyme, and pasta ...   \n",
       "8668   [\"Put all ingredients into a sauce pan; stir.\"...   \n",
       "1114   [\"Preparation: Sift the ingredients from toget...   \n",
       "13902  [\"Cut sausages into bite-sized pieces and brow...   \n",
       "11963  [\"Lightly butter a 13- by 9-inch baking dish.\"...   \n",
       "11072  [\"Aerate the flour and sugar in a large bowl.\"...   \n",
       "3002   [\"For best results in making the eggs easier t...   \n",
       "19771  [\"Place sliced potatoes in slow cooker.\", \"In ...   \n",
       "8115   [\"Cook 1 cup butter and 1/3 cup cocoa in a sau...   \n",
       "\n",
       "                                                    link     source  \\\n",
       "10650     www.cookbooks.com/Recipe-Details.aspx?id=84167   Gathered   \n",
       "2041   www.epicurious.com/recipes/member/views/garlic...   Gathered   \n",
       "8668                      www.foodgeeks.com/recipes/6375  Recipes1M   \n",
       "1114   cookpad.com/us/recipes/145240-quick-easy-delic...  Recipes1M   \n",
       "13902    www.cookbooks.com/Recipe-Details.aspx?id=956338   Gathered   \n",
       "11963  www.foodnetwork.com/recipes/food-network-kitch...  Recipes1M   \n",
       "11072    www.cookbooks.com/Recipe-Details.aspx?id=773865   Gathered   \n",
       "3002    www.food.com/recipe/egg-salad-with-a-twist-97575   Gathered   \n",
       "19771  allrecipes.com/recipe/slow-cooker-scalloped-po...  Recipes1M   \n",
       "8115   www.food.com/recipe/frosted-peanut-butter-brow...   Gathered   \n",
       "\n",
       "                                                     NER  \n",
       "10650  [\"chicken breasts\", \"eggs\", \"milk\", \"bread cru...  \n",
       "2041   [\"water\", \"garlic\", \"thyme\", \"salt\", \"multi co...  \n",
       "8668   [\"mushrooms\", \"olive oil\", \"fennel seeds\", \"co...  \n",
       "1114   [\"Margarine\", \"Powdered sugar\", \"flour\", \"star...  \n",
       "13902  [\"sausage\", \"Italian sausage\", \"onions\", \"fres...  \n",
       "11963  [\"unsalted butter\", \"marshmallows\", \"smooth pe...  \n",
       "11072  [\"flour\", \"water\", \"margarine\", \"eggs\", \"bakin...  \n",
       "3002   [\"eggs\", \"green onions\", \"green olives\", \"mayo...  \n",
       "19771  [\"potatoes\", \"Cheddar cheese\", \"onion\", \"ham\",...  \n",
       "8115   [\"butter\", \"cocoa\", \"sugar\", \"flour\", \"salt\", ...  "
      ]
     },
     "execution_count": 31,
     "metadata": {},
     "output_type": "execute_result"
    }
   ],
   "source": [
    "# Show final clean data sample\n",
    "print(\"Final clean data sample:\")\n",
    "df_clean.head(10)"
   ]
  },
  {
   "cell_type": "code",
   "execution_count": 33,
   "id": "c15e2e6e",
   "metadata": {},
   "outputs": [
    {
     "name": "stdout",
     "output_type": "stream",
     "text": [
      "Clean data saved to: recipe_cleaned.csv\n",
      "Final shape: (20000, 6)\n",
      "ETL Complete!\n"
     ]
    }
   ],
   "source": [
    "# Save the clean data\n",
    "output_path = \"recipe_cleaned.csv\"\n",
    "df_clean.to_csv(output_path, index=False)\n",
    "print(f\"Clean data saved to: {output_path}\")\n",
    "print(f\"Final shape: {df_clean.shape}\")\n",
    "print(\"ETL Complete!\")"
   ]
  }
 ],
 "metadata": {
  "kernelspec": {
   "display_name": "Python 3",
   "language": "python",
   "name": "python3"
  },
  "language_info": {
   "codemirror_mode": {
    "name": "ipython",
    "version": 3
   },
   "file_extension": ".py",
   "mimetype": "text/x-python",
   "name": "python",
   "nbconvert_exporter": "python",
   "pygments_lexer": "ipython3",
   "version": "3.12.8"
  }
 },
 "nbformat": 4,
 "nbformat_minor": 5
}
