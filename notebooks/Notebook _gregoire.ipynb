{
 "cells": [
  {
   "cell_type": "code",
   "execution_count": 2,
   "id": "20102898",
   "metadata": {},
   "outputs": [
    {
     "data": {
      "text/plain": [
       "Index(['Nom du Produit en Français', 'LCI Name', 'Type de production',\n",
       "       'Catégorie', 'Score unique EF3.1 (mPt/kg)',\n",
       "       'Changement climatique (kg CO2 eq/kg)',\n",
       "       'Appauvrissement de la couche d'ozone (kg CFC11 eq/kg)',\n",
       "       'Rayonnements ionisants (kBq U-235 eq/kg)',\n",
       "       'Formation photochimique d’ozone (kg NMVOC eq/kg)',\n",
       "       'Particules (disease inc./kg)',\n",
       "       'Effets toxicologiques sur la santé humaine : substances non-cancérogènes* (CTUh/kg)',\n",
       "       'Effets toxicologiques sur la santé humaine : substances cancérogènes* (CTUh/kg)',\n",
       "       'Acidification terrestre et eaux douces (mol H+ eq/kg)',\n",
       "       'Eutrophisation eaux douces (kg P eq/kg)',\n",
       "       'Eutrophisation marine (kg N eq/kg)',\n",
       "       'Eutrophisation terrestre (mol N eq/kg)',\n",
       "       'Écotoxicité pour écosystèmes aquatiques d’eau douce (CTUe/kg)',\n",
       "       'Utilisation du sol (Pt/kg)',\n",
       "       'Épuisement des ressources en eau (m³ depriv./kg)',\n",
       "       'Épuisement des ressources énergétiques (MJ/kg)',\n",
       "       'Épuisement des ressources en minéraux (kg Sb eq/kg)',\n",
       "       'Changement climatique - émissions biogéniques (kg CO2 eq/kg)',\n",
       "       'Changement climatique - émissions fossiles (kg CO2 eq/kg)',\n",
       "       'Changement climatique - émissions liées au changement d’affectation des sols (kg CO2 eq/kg)'],\n",
       "      dtype='object')"
      ]
     },
     "execution_count": 2,
     "metadata": {},
     "output_type": "execute_result"
    }
   ],
   "source": [
    "import pandas as pd\n",
    "csv_path = 'C:/user/grego/code/NotNemezis/Projet-ETL/data/raw/AGRIBALYSE/Agribalyse_agriculture_biologique_extraction.csv'\n",
    "df = pd.read_csv(csv_path, sep = ';')\n",
    "df.columns"
   ]
  }
 ],
 "metadata": {
  "kernelspec": {
   "display_name": "Python 3",
   "language": "python",
   "name": "python3"
  },
  "language_info": {
   "codemirror_mode": {
    "name": "ipython",
    "version": 3
   },
   "file_extension": ".py",
   "mimetype": "text/x-python",
   "name": "python",
   "nbconvert_exporter": "python",
   "pygments_lexer": "ipython3",
   "version": "3.12.10"
  }
 },
 "nbformat": 4,
 "nbformat_minor": 5
}
