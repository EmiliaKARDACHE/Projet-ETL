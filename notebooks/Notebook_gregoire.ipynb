{
 "cells": [
  {
   "cell_type": "code",
   "execution_count": null,
   "id": "20102898",
   "metadata": {},
   "outputs": [],
   "source": [
    "import pandas as pd\n",
    "csv_path = 'C:/user/grego/code/NotNemezis/Projet-ETL/data/raw/OpenFoodFact/openfoodfacts_sample.csv'\n",
    "df = pd.read_csv(csv_path, low_memory=False, sep='\\t', encoding='utf-8', on_bad_lines='skip')\n",
    "df.replace(['NANN','NAN','nan','NaN','NONE','None',''], pd.NA, inplace=True)\n",
    "df = df.dropna(axis=0, how='all')\n",
    "df = df.dropna(axis=1, how='all')\n",
    "const_cols = [c for c in df.columns if df[c].nunique(dropna=True) <= 1]\n",
    "if const_cols:\n",
    "    df.drop(columns=const_cols, inplace=True)\n",
    "df.reset_index(drop=True, inplace=True)\n",
    "\n",
    "df.to_csv('C:/user/grego/code/NotNemezis/Projet-ETL/data/processed/openfoodfacts.csv', index=False)"
   ]
  },
  {
   "cell_type": "code",
   "execution_count": 5,
   "id": "93203399",
   "metadata": {},
   "outputs": [
    {
     "name": "stdout",
     "output_type": "stream",
     "text": [
      "(10000, 150)\n",
      "Index(['code', 'url', 'creator', 'created_t', 'created_datetime',\n",
      "       'last_modified_t', 'last_modified_datetime', 'last_modified_by',\n",
      "       'last_updated_t', 'last_updated_datetime',\n",
      "       ...\n",
      "       'taurine_100g', 'ph_100g', 'fruits-vegetables-nuts_100g',\n",
      "       'fruits-vegetables-nuts-dried_100g',\n",
      "       'fruits-vegetables-nuts-estimate_100g',\n",
      "       'fruits-vegetables-nuts-estimate-from-ingredients_100g', 'cocoa_100g',\n",
      "       'carbon-footprint-from-meat-or-fish_100g', 'nutrition-score-fr_100g',\n",
      "       'phylloquinone_100g'],\n",
      "      dtype='object', length=150)\n"
     ]
    }
   ],
   "source": [
    "print(df.shape)\n",
    "df.head()\n",
    "print(df.columns)"
   ]
  }
 ],
 "metadata": {
  "kernelspec": {
   "display_name": "Python 3",
   "language": "python",
   "name": "python3"
  },
  "language_info": {
   "codemirror_mode": {
    "name": "ipython",
    "version": 3
   },
   "file_extension": ".py",
   "mimetype": "text/x-python",
   "name": "python",
   "nbconvert_exporter": "python",
   "pygments_lexer": "ipython3",
   "version": "3.12.10"
  }
 },
 "nbformat": 4,
 "nbformat_minor": 5
}
